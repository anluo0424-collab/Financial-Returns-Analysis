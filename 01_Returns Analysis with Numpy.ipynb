{
 "cells": [
  {
   "cell_type": "code",
   "execution_count": 1,
   "id": "bfd06a82-6c61-4c14-a717-3f4afd733e7e",
   "metadata": {},
   "outputs": [],
   "source": [
    "import pandas as pd\n",
    "import numpy as np\n",
    "import matplotlib\n",
    "import random"
   ]
  },
  {
   "cell_type": "code",
   "execution_count": 3,
   "id": "b13ccb68-9b1b-425f-bd74-0caa1f41f662",
   "metadata": {},
   "outputs": [
    {
     "name": "stdout",
     "output_type": "stream",
     "text": [
      "[0.84470978 0.67905733 0.3956157  0.08384221 0.69791927 0.12110152\n",
      " 0.16062789 0.48560825 0.17297602 0.0030096 ]\n"
     ]
    }
   ],
   "source": [
    "# Create an array containing 10 random numbers ranging from 0 to 1.(创建一个包含10个随机数的数组，数值范围在0-1之间)\n",
    "random_array = np.random.random(10)\n",
    "print(random_array)"
   ]
  },
  {
   "cell_type": "code",
   "execution_count": 5,
   "id": "c38c8f90-e6d6-413f-ae2c-e1efc36284fe",
   "metadata": {},
   "outputs": [
    {
     "name": "stdout",
     "output_type": "stream",
     "text": [
      "[[1 2 3]\n",
      " [4 5 6]\n",
      " [7 8 9]]\n",
      "<class 'numpy.ndarray'>\n"
     ]
    }
   ],
   "source": [
    "# Create a 3x3 matrix containing the numbers 1 to 9.(创建一个3x3的矩阵，包含数字1-9)\n",
    "list5=[[1,2,3],[4,5,6],[7,8,9]]\n",
    "c = np.array(list5)\n",
    "print(c)\n",
    "print(type(c))\n",
    "\n",
    "#method2\n",
    "matrix = np.array([[1,2,3],[1,2,3],[1,2,3]])"
   ]
  },
  {
   "cell_type": "code",
   "execution_count": 7,
   "id": "d5ac2128-1999-4f0e-b2b5-6bc4cbfe76cb",
   "metadata": {},
   "outputs": [
    {
     "name": "stdout",
     "output_type": "stream",
     "text": [
      "[ 0.   0.5  1.   1.5  2.   2.5  3.   3.5  4.   4.5  5.   5.5  6.   6.5\n",
      "  7.   7.5  8.   8.5  9.   9.5 10. ]\n"
     ]
    }
   ],
   "source": [
    "# Create an array from 0 to 10 with a step size of 0.5.(创建一个从0到10，步长为0.5的数组)\n",
    "num3 = np.arange(0,10.5,0.5)\n",
    "print(num3)"
   ]
  },
  {
   "cell_type": "code",
   "execution_count": 17,
   "id": "4667e020-258e-477f-80b3-7df1e381b23b",
   "metadata": {},
   "outputs": [
    {
     "name": "stdout",
     "output_type": "stream",
     "text": [
      "stock_array: [100 102 105 103 108]\n",
      "returns:[ 0.02        0.02941176 -0.01904762  0.04854369]\n",
      "Average Price: 103.60, Standard deviation: 2.73\n",
      "108 4\n"
     ]
    }
   ],
   "source": [
    "# # Given an array of stock prices： prices = [100, 102, 105, 103, 108]\n",
    "stock_array = np.array([100, 102, 105, 103, 108])\n",
    "\n",
    "# Calculate daily returns (price on the next day / price on the previous day - 1)\n",
    "returns = stock_array[1:]/stock_array[0:-1] -1\n",
    "print(\"stock_array: {}\\nreturns:{}\".format(stock_array,returns))\n",
    "\n",
    "# Calculate the average price and the standard deviation of prices\n",
    "avg_prices = np.mean(stock_array)\n",
    "std_prices = np.std(stock_array)\n",
    "print(f\"Average Price: {avg_prices:.2f}, Standard deviation: {std_prices:.2f}\")\n",
    "\n",
    "# Find the highest price and its corresponding index position\n",
    "p_max=np.max(stock_array)\n",
    "max_index = np.argmax(stock_array)\n",
    "print(p_max,max_index)"
   ]
  },
  {
   "cell_type": "code",
   "execution_count": 11,
   "id": "066df887-d6f7-4ac5-b082-864589b7e67d",
   "metadata": {},
   "outputs": [
    {
     "name": "stdout",
     "output_type": "stream",
     "text": [
      "Returns Array: [ 0.02  -0.01   0.03   0.015 -0.005]\n",
      "Cumulative Return: 0.05\n",
      "Annual Returns: 10.93\n",
      "Maximum Drawdown: -0.0190\n"
     ]
    }
   ],
   "source": [
    "# Given a set of investment returns: returns = [0.02, -0.01, 0.03, 0.015, -0.005] \n",
    "# 给定一组投资收益率：returns = [0.02, -0.01, 0.03, 0.015, -0.005]\n",
    "returns_array = np.array([0.02, -0.01, 0.03, 0.015, -0.005])\n",
    "\n",
    "# Calculate cumulative return\n",
    "# 计算累积收益率\n",
    "cumulative_return = np.prod(1+returns_array) -1\n",
    "\n",
    "# Calculate annualized return (assuming 252 trading days)\n",
    "# 计算年化收益率（假设252个交易日）\n",
    "annual_r = (1+cumulative_return)**(252/5) -1\n",
    "print(\"Returns Array: {}\\nCumulative Return: {:.2f}\\nAnnual Returns: {:.2f}\".format(returns_array,cumulative_return,annual_r))\n",
    "\n",
    "# Calculate maximum drawdown\n",
    "# 最大回撤\n",
    "cumulative = np.cumprod(1 + returns)\n",
    "running_max = np.maximum.accumulate(cumulative)\n",
    "drawdown = (cumulative - running_max) / running_max\n",
    "max_drawdown = np.min(drawdown)\n",
    "print(f\"Maximum Drawdown: {max_drawdown:.4f}\")"
   ]
  },
  {
   "cell_type": "code",
   "execution_count": 13,
   "id": "02c2d9a6-e623-4c58-973d-ca7b075a3944",
   "metadata": {},
   "outputs": [
    {
     "name": "stdout",
     "output_type": "stream",
     "text": [
      "Portfolio:\n",
      "[[ 0.01   0.02  -0.01   0.03   0.015]\n",
      " [ 0.015  0.018  0.005  0.025  0.01 ]\n",
      " [ 0.008  0.022 -0.005  0.028  0.012]]\n",
      "Covariance:\n",
      "[[2.2000e-04 1.0275e-04 1.8625e-04]\n",
      " [1.0275e-04 5.8300e-05 9.0500e-05]\n",
      " [1.8625e-04 9.0500e-05 1.6400e-04]]\n",
      "Variance:\n",
      "[1.760e-04 4.664e-05 1.312e-04]\n",
      "Correlation:\n",
      "[[1.         0.90726929 0.98053481]\n",
      " [0.90726929 1.         0.925534  ]\n",
      " [0.98053481 0.925534   1.        ]]\n"
     ]
    }
   ],
   "source": [
    "# Create a return matrix for three assets (5 days of data)\n",
    "# Asset A: [0.01, 0.02, -0.01, 0.03, 0.015]\n",
    "# Asset B: [0.015, 0.018, 0.005, 0.025, 0.01]\n",
    "# Asset C: [0.008, 0.022, -0.005, 0.028, 0.012]\n",
    "# Calculate the covariance matrix\n",
    "# Calculate the variance of each asset\n",
    "# Calculate the correlation coefficient matrix\n",
    "P = np.array([[0.01, 0.02, -0.01, 0.03, 0.015],[0.015, 0.018, 0.005, 0.025, 0.01],[0.008, 0.022, -0.005, 0.028, 0.012]])\n",
    "cov = np.cov(P,rowvar =True)\n",
    "var = np.var(P,axis=1)\n",
    "corr_matrix = np.corrcoef(P)\n",
    "print(f\"Portfolio:\\n{P}\")\n",
    "print(\"Covariance:\\n{}\\nVariance:\\n{}\\nCorrelation:\\n{}\".format(cov,var,corr_matrix))"
   ]
  },
  {
   "cell_type": "code",
   "execution_count": null,
   "id": "bc30f16d-5160-49cd-a15b-2342488dced1",
   "metadata": {},
   "outputs": [],
   "source": []
  }
 ],
 "metadata": {
  "kernelspec": {
   "display_name": "Python 3 (ipykernel)",
   "language": "python",
   "name": "python3"
  },
  "language_info": {
   "codemirror_mode": {
    "name": "ipython",
    "version": 3
   },
   "file_extension": ".py",
   "mimetype": "text/x-python",
   "name": "python",
   "nbconvert_exporter": "python",
   "pygments_lexer": "ipython3",
   "version": "3.11.7"
  }
 },
 "nbformat": 4,
 "nbformat_minor": 5
}
